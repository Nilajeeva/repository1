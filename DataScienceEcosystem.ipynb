{
 "cells": [
  {
   "cell_type": "markdown",
   "id": "edf205e9-55d2-4cf7-901d-6951f708afcb",
   "metadata": {},
   "source": [
    "# Data Science Tools and Ecosystem"
   ]
  },
  {
   "cell_type": "markdown",
   "id": "8b2918c3-b289-4a46-ad43-34384cf02a5b",
   "metadata": {},
   "source": [
    "In this notebook, Data Science Tools and Ecosystems are summarized"
   ]
  },
  {
   "cell_type": "markdown",
   "id": "926cc2f1-080a-4ab5-ac96-41de2767b650",
   "metadata": {},
   "source": [
    "#  Objectives"
   ]
  },
  {
   "cell_type": "markdown",
   "id": "c0944bec-23fe-404c-bb09-7be2698be117",
   "metadata": {},
   "source": [
    " * List popular languages for data science\n",
    " * List commonly used libraries for data science\n",
    " * List major data science tools\n",
    " * To show how to write and evaluate simple arithematic expressions "
   ]
  },
  {
   "cell_type": "markdown",
   "id": "1721a504-2362-4d45-a473-3279f637e41b",
   "metadata": {},
   "source": [
    "Some of the popular languages that Data Scientists use are:"
   ]
  },
  {
   "cell_type": "markdown",
   "id": "eaa5f535-1d4c-4efb-8afc-8735a5a766be",
   "metadata": {},
   "source": [
    "1. Python\n",
    "2. R\n",
    "3. SQL"
   ]
  },
  {
   "cell_type": "markdown",
   "id": "ae7f1fa9-c12a-4d5a-9963-834a5c1d04df",
   "metadata": {},
   "source": [
    "Some of the commonly used libraries used by Data Scientists include:"
   ]
  },
  {
   "cell_type": "markdown",
   "id": "dad5609f-cca1-47af-b194-8aba107a0aad",
   "metadata": {},
   "source": [
    "    1. Pandas\n",
    "    2. NumPy\n",
    "    3. Tensor Flow\n",
    "    4. PyTorch"
   ]
  },
  {
   "cell_type": "markdown",
   "id": "e79d844e-c09a-4bfa-80e6-fe9baf2fa4b2",
   "metadata": {},
   "source": [
    "|__Data Science Tools__|\n",
    "------------------\n",
    "|Jupyter Notebook|\n",
    "|Jupyter Lab|\n",
    "|R-Studio|\n",
    "|Apache Zeppelin|"
   ]
  },
  {
   "cell_type": "markdown",
   "id": "38b88d3d-ee1b-40f0-b9b0-5f86f66bee49",
   "metadata": {},
   "source": [
    "### Below are a few examples of evaluating arithmetic expressions in Python"
   ]
  },
  {
   "cell_type": "code",
   "execution_count": 4,
   "id": "f4f9d90e-7ad0-4fb8-a571-2671ac7f9bcc",
   "metadata": {},
   "outputs": [],
   "source": [
    "a=3\n",
    "b=4\n",
    "c=5\n",
    "x=(a*b)+c"
   ]
  },
  {
   "cell_type": "markdown",
   "id": "2c1e97b8-6d12-4346-8612-726e3a819c3b",
   "metadata": {},
   "source": [
    "$x=(a*b)+c$"
   ]
  },
  {
   "cell_type": "markdown",
   "id": "df3ff448-7587-46e0-ae9e-8a966852c8e1",
   "metadata": {},
   "source": [
    "This is a simple arithmetic expression to multiply then add integers:"
   ]
  },
  {
   "cell_type": "code",
   "execution_count": 4,
   "id": "b05642c5-bfd8-486f-8f4f-867349d25be7",
   "metadata": {},
   "outputs": [
    {
     "name": "stdout",
     "output_type": "stream",
     "text": [
      "17\n"
     ]
    }
   ],
   "source": [
    "print (x)"
   ]
  },
  {
   "cell_type": "code",
   "execution_count": 6,
   "id": "50d634b9-8f8d-4f65-831b-12e0d8843d3a",
   "metadata": {},
   "outputs": [],
   "source": [
    "x=200\n",
    "y=60\n",
    "h=(x/y)"
   ]
  },
  {
   "cell_type": "markdown",
   "id": "392f9a6a-bccb-467d-95cb-f1bf79c715ba",
   "metadata": {},
   "source": [
    "$h=x/y$"
   ]
  },
  {
   "cell_type": "markdown",
   "id": "3974c562-511d-4d33-8d9c-91deed3e8120",
   "metadata": {},
   "source": [
    "This will convert 200 minutes to hours by dividing by 60"
   ]
  },
  {
   "cell_type": "code",
   "execution_count": 7,
   "id": "efcb8132-53ad-400e-b7ac-518a81d2bf6f",
   "metadata": {},
   "outputs": [
    {
     "name": "stdout",
     "output_type": "stream",
     "text": [
      "3.3333333333333335\n"
     ]
    }
   ],
   "source": [
    "print (h)"
   ]
  },
  {
   "cell_type": "markdown",
   "id": "474737ee-ff8b-4602-b1ae-db31e611490b",
   "metadata": {},
   "source": [
    "## Author ##"
   ]
  },
  {
   "cell_type": "markdown",
   "id": "7ec28f72-f489-4317-9202-8104e93e04a3",
   "metadata": {},
   "source": [
    "Jeevarekha P"
   ]
  },
  {
   "cell_type": "code",
   "execution_count": null,
   "id": "9a3f8a9d-cd7e-4959-b12a-b469e76b77a0",
   "metadata": {},
   "outputs": [],
   "source": []
  }
 ],
 "metadata": {
  "kernelspec": {
   "display_name": "Python 3 (ipykernel)",
   "language": "python",
   "name": "python3"
  },
  "language_info": {
   "codemirror_mode": {
    "name": "ipython",
    "version": 3
   },
   "file_extension": ".py",
   "mimetype": "text/x-python",
   "name": "python",
   "nbconvert_exporter": "python",
   "pygments_lexer": "ipython3",
   "version": "3.10.9"
  }
 },
 "nbformat": 4,
 "nbformat_minor": 5
}
